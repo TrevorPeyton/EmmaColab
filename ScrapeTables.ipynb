{
 "cells": [
  {
   "cell_type": "code",
   "execution_count": null,
   "metadata": {},
   "outputs": [],
   "source": [
    "import pandas as pd\n",
    "import PyPDF2\n",
    "import re\n",
    "from io import StringIO\n",
    "import os\n",
    "import io\n",
    "import codecs\n",
    "path = r'C:\\Users\\cll319\\Desktop\\files'\n",
    "\n",
    "os.chdir(path)\n",
    "\n",
    "n = 0\n",
    "skipped_files = []\n",
    "for item in os.listdir(path):\n",
    "    name = item[:-9] #[name, year]\n",
    "    year = item[-8:-4]\n",
    "\n",
    "    os.system('cls')\n",
    "    print(f\"Reading {n}th file\")\n",
    "    pages = set()\n",
    "    try:\n",
    "        with open(item, \"rb\") as fh:\n",
    "            buf = io.BytesIO(fh.read())\n",
    "            pdf = PyPDF2.PdfFileReader(buf)\n",
    "            for page in range(pdf.numPages):\n",
    "                lines = [line for line in pdf.getPage(page).extractText().split(\"\\n\") if \"Item 20\" in line]\n",
    "                if len(lines) > 0:\n",
    "                    pages.update([page -1, page, page +1])\n",
    "    except:\n",
    "        skipped_files.append(item)\n",
    "    finally:\n",
    "        if len(pages) > 0:\n",
    "            skipped_files.append(item)\n",
    "    \n",
    "    n += 1\n",
    "\n",
    "path = r'C:\\Users\\cll319\\Desktop'\n",
    "os.chdir(path)\n",
    "\n",
    "import json\n",
    "with open(\"skipped\", \"w\") as fp:\n",
    "    json.dump(skipped_files, fp)\n",
    "\n",
    "df = pd.DataFrame(data)\n",
    "df.to_csv(\"full.csv\")"
   ]
  }
 ],
 "metadata": {
  "kernelspec": {
   "display_name": "Python 3.9.13 ('base')",
   "language": "python",
   "name": "python3"
  },
  "language_info": {
   "name": "python",
   "version": "3.9.13"
  },
  "orig_nbformat": 4,
  "vscode": {
   "interpreter": {
    "hash": "c6e4e9f98eb68ad3b7c296f83d20e6de614cb42e90992a65aa266555a3137d0d"
   }
  }
 },
 "nbformat": 4,
 "nbformat_minor": 2
}
