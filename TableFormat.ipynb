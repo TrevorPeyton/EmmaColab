{
 "cells": [
  {
   "cell_type": "code",
   "execution_count": 1,
   "metadata": {},
   "outputs": [],
   "source": [
    "import pandas as pd"
   ]
  },
  {
   "cell_type": "code",
   "execution_count": 111,
   "metadata": {},
   "outputs": [],
   "source": [
    "df = pd.read_excel(\"data/Full.xlsx\").fillna(method='ffill').replace(r'\\n',' ', regex=True)\n",
    "df.columns = df.columns.to_series().replace(r'\\n','', regex=True)"
   ]
  },
  {
   "cell_type": "code",
   "execution_count": 119,
   "metadata": {},
   "outputs": [],
   "source": [
    "pt = pd.pivot_table(df, index=[\"Year\"], columns=[\"Outlet Type\"], values=df.columns)\n",
    "pt.columns = [('{1}_{0}'.format(*tup)) for tup in pt.columns]"
   ]
  },
  {
   "cell_type": "code",
   "execution_count": 121,
   "metadata": {},
   "outputs": [],
   "source": [
    "pt.to_excel(\"data/pivot.xlsx\")"
   ]
  },
  {
   "cell_type": "code",
   "execution_count": null,
   "metadata": {},
   "outputs": [],
   "source": []
  }
 ],
 "metadata": {
  "kernelspec": {
   "display_name": "Python 3.9.13 ('emma')",
   "language": "python",
   "name": "python3"
  },
  "language_info": {
   "codemirror_mode": {
    "name": "ipython",
    "version": 3
   },
   "file_extension": ".py",
   "mimetype": "text/x-python",
   "name": "python",
   "nbconvert_exporter": "python",
   "pygments_lexer": "ipython3",
   "version": "3.9.13"
  },
  "orig_nbformat": 4,
  "vscode": {
   "interpreter": {
    "hash": "8d3daf9ab28d5810caca792cc12b61e4b6d60f5b0827a45efba3ea8b149eb119"
   }
  }
 },
 "nbformat": 4,
 "nbformat_minor": 2
}
